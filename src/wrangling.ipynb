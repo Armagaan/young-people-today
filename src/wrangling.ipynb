{
 "cells": [
  {
   "cell_type": "markdown",
   "metadata": {},
   "source": [
    "# Dataset Wrangling"
   ]
  },
  {
   "cell_type": "code",
   "execution_count": 4,
   "metadata": {},
   "outputs": [],
   "source": [
    "import matplotlib.pyplot as plt\n",
    "import numpy as np\n",
    "import pandas as pd\n",
    "import seaborn as sns"
   ]
  },
  {
   "cell_type": "code",
   "execution_count": 5,
   "metadata": {},
   "outputs": [],
   "source": [
    "path = \"../data/responses.csv\"\n",
    "df = pd.read_csv(path, header=0)"
   ]
  },
  {
   "cell_type": "code",
   "execution_count": 6,
   "metadata": {},
   "outputs": [
    {
     "name": "stdout",
     "output_type": "stream",
     "text": [
      "Rows and columns in the dataframe: (1010, 150)\n"
     ]
    }
   ],
   "source": [
    "print(\"Rows and columns in the dataframe:\", df.shape)"
   ]
  },
  {
   "cell_type": "markdown",
   "metadata": {},
   "source": [
    "Let us check for missing values in the dataset."
   ]
  },
  {
   "cell_type": "code",
   "execution_count": 7,
   "metadata": {},
   "outputs": [
    {
     "name": "stdout",
     "output_type": "stream",
     "text": [
      "Rows with missing values: 336\n"
     ]
    }
   ],
   "source": [
    "print(\"Rows with missing values:\", df[df.isnull().any(axis=1)].shape[0])"
   ]
  },
  {
   "cell_type": "markdown",
   "metadata": {},
   "source": [
    "That is one third of the total rows! We cannot drop them.<br>\n",
    "Let us replace them with mode values. Mean and Median are avoided as they may result in float values. All columns are integer valued."
   ]
  },
  {
   "cell_type": "code",
   "execution_count": 8,
   "metadata": {},
   "outputs": [
    {
     "name": "stdout",
     "output_type": "stream",
     "text": [
      "Rows with missing values: 0\n"
     ]
    }
   ],
   "source": [
    "# Replace NaN values with the mode of the respective column\n",
    "for col in df.columns:\n",
    "    df.loc[df[col].isnull(), col] = df[col].mode()[0]\n",
    "print(\"Rows with missing values:\", df[df.isnull().any(axis=1)].shape[0])"
   ]
  },
  {
   "cell_type": "code",
   "execution_count": 9,
   "metadata": {},
   "outputs": [
    {
     "name": "stdout",
     "output_type": "stream",
     "text": [
      "<class 'pandas.core.frame.DataFrame'>\n",
      "RangeIndex: 1010 entries, 0 to 1009\n",
      "Data columns (total 150 columns):\n",
      " #    Column                          Dtype  \n",
      "---   ------                          -----  \n",
      " 0    Music                           float64\n",
      " 1    Slow songs or fast songs        float64\n",
      " 2    Dance                           float64\n",
      " 3    Folk                            float64\n",
      " 4    Country                         float64\n",
      " 5    Classical music                 float64\n",
      " 6    Musical                         float64\n",
      " 7    Pop                             float64\n",
      " 8    Rock                            float64\n",
      " 9    Metal or Hardrock               float64\n",
      " 10   Punk                            float64\n",
      " 11   Hiphop, Rap                     float64\n",
      " 12   Reggae, Ska                     float64\n",
      " 13   Swing, Jazz                     float64\n",
      " 14   Rock n roll                     float64\n",
      " 15   Alternative                     float64\n",
      " 16   Latino                          float64\n",
      " 17   Techno, Trance                  float64\n",
      " 18   Opera                           float64\n",
      " 19   Movies                          float64\n",
      " 20   Horror                          float64\n",
      " 21   Thriller                        float64\n",
      " 22   Comedy                          float64\n",
      " 23   Romantic                        float64\n",
      " 24   Sci-fi                          float64\n",
      " 25   War                             float64\n",
      " 26   Fantasy/Fairy tales             float64\n",
      " 27   Animated                        float64\n",
      " 28   Documentary                     float64\n",
      " 29   Western                         float64\n",
      " 30   Action                          float64\n",
      " 31   History                         float64\n",
      " 32   Psychology                      float64\n",
      " 33   Politics                        float64\n",
      " 34   Mathematics                     float64\n",
      " 35   Physics                         float64\n",
      " 36   Internet                        float64\n",
      " 37   PC                              float64\n",
      " 38   Economy Management              float64\n",
      " 39   Biology                         float64\n",
      " 40   Chemistry                       float64\n",
      " 41   Reading                         float64\n",
      " 42   Geography                       float64\n",
      " 43   Foreign languages               float64\n",
      " 44   Medicine                        float64\n",
      " 45   Law                             float64\n",
      " 46   Cars                            float64\n",
      " 47   Art exhibitions                 float64\n",
      " 48   Religion                        float64\n",
      " 49   Countryside, outdoors           float64\n",
      " 50   Dancing                         float64\n",
      " 51   Musical instruments             float64\n",
      " 52   Writing                         float64\n",
      " 53   Passive sport                   float64\n",
      " 54   Active sport                    float64\n",
      " 55   Gardening                       float64\n",
      " 56   Celebrities                     float64\n",
      " 57   Shopping                        float64\n",
      " 58   Science and technology          float64\n",
      " 59   Theatre                         float64\n",
      " 60   Fun with friends                float64\n",
      " 61   Adrenaline sports               float64\n",
      " 62   Pets                            float64\n",
      " 63   Flying                          float64\n",
      " 64   Storm                           float64\n",
      " 65   Darkness                        float64\n",
      " 66   Heights                         float64\n",
      " 67   Spiders                         float64\n",
      " 68   Snakes                          int64  \n",
      " 69   Rats                            float64\n",
      " 70   Ageing                          float64\n",
      " 71   Dangerous dogs                  float64\n",
      " 72   Fear of public speaking         float64\n",
      " 73   Smoking                         object \n",
      " 74   Alcohol                         object \n",
      " 75   Healthy eating                  float64\n",
      " 76   Daily events                    float64\n",
      " 77   Prioritising workload           float64\n",
      " 78   Writing notes                   float64\n",
      " 79   Workaholism                     float64\n",
      " 80   Thinking ahead                  float64\n",
      " 81   Final judgement                 float64\n",
      " 82   Reliability                     float64\n",
      " 83   Keeping promises                float64\n",
      " 84   Loss of interest                float64\n",
      " 85   Friends versus money            float64\n",
      " 86   Funniness                       float64\n",
      " 87   Fake                            float64\n",
      " 88   Criminal damage                 float64\n",
      " 89   Decision making                 float64\n",
      " 90   Elections                       float64\n",
      " 91   Self-criticism                  float64\n",
      " 92   Judgment calls                  float64\n",
      " 93   Hypochondria                    float64\n",
      " 94   Empathy                         float64\n",
      " 95   Eating to survive               int64  \n",
      " 96   Giving                          float64\n",
      " 97   Compassion to animals           float64\n",
      " 98   Borrowed stuff                  float64\n",
      " 99   Loneliness                      float64\n",
      " 100  Cheating in school              float64\n",
      " 101  Health                          float64\n",
      " 102  Changing the past               float64\n",
      " 103  God                             float64\n",
      " 104  Dreams                          int64  \n",
      " 105  Charity                         float64\n",
      " 106  Number of friends               int64  \n",
      " 107  Punctuality                     object \n",
      " 108  Lying                           object \n",
      " 109  Waiting                         float64\n",
      " 110  New environment                 float64\n",
      " 111  Mood swings                     float64\n",
      " 112  Appearence and gestures         float64\n",
      " 113  Socializing                     float64\n",
      " 114  Achievements                    float64\n",
      " 115  Responding to a serious letter  float64\n",
      " 116  Children                        float64\n",
      " 117  Assertiveness                   float64\n",
      " 118  Getting angry                   float64\n",
      " 119  Knowing the right people        float64\n",
      " 120  Public speaking                 float64\n",
      " 121  Unpopularity                    float64\n",
      " 122  Life struggles                  float64\n",
      " 123  Happiness in life               float64\n",
      " 124  Energy levels                   float64\n",
      " 125  Small - big dogs                float64\n",
      " 126  Personality                     float64\n",
      " 127  Finding lost valuables          float64\n",
      " 128  Getting up                      float64\n",
      " 129  Interests or hobbies            float64\n",
      " 130  Parents' advice                 float64\n",
      " 131  Questionnaires or polls         float64\n",
      " 132  Internet usage                  object \n",
      " 133  Finances                        float64\n",
      " 134  Shopping centres                float64\n",
      " 135  Branded clothing                float64\n",
      " 136  Entertainment spending          float64\n",
      " 137  Spending on looks               float64\n",
      " 138  Spending on gadgets             int64  \n",
      " 139  Spending on healthy eating      float64\n",
      " 140  Age                             float64\n",
      " 141  Height                          float64\n",
      " 142  Weight                          float64\n",
      " 143  Number of siblings              float64\n",
      " 144  Gender                          object \n",
      " 145  Left - right handed             object \n",
      " 146  Education                       object \n",
      " 147  Only child                      object \n",
      " 148  Village - town                  object \n",
      " 149  House - block of flats          object \n",
      "dtypes: float64(134), int64(5), object(11)\n",
      "memory usage: 1.2+ MB\n"
     ]
    }
   ],
   "source": [
    "df.info(verbose=True)"
   ]
  },
  {
   "cell_type": "markdown",
   "metadata": {},
   "source": [
    "A lot of columns are unnecessarily floats. Let's convert them to integers."
   ]
  },
  {
   "cell_type": "code",
   "execution_count": 10,
   "metadata": {},
   "outputs": [],
   "source": [
    "# Map all columns of datatype float64 to int64\n",
    "df = df.apply(lambda x: x.astype('int64') if x.dtype == 'float64' else x)"
   ]
  },
  {
   "cell_type": "markdown",
   "metadata": {},
   "source": [
    "Now, let's see if any of the object datatypes can be replaced with integers or one hot vectors."
   ]
  },
  {
   "cell_type": "code",
   "execution_count": 11,
   "metadata": {},
   "outputs": [
    {
     "name": "stdout",
     "output_type": "stream",
     "text": [
      "Index(['Smoking', 'Alcohol', 'Punctuality', 'Lying', 'Internet usage',\n",
      "       'Gender', 'Left - right handed', 'Education', 'Only child',\n",
      "       'Village - town', 'House - block of flats'],\n",
      "      dtype='object')\n"
     ]
    }
   ],
   "source": [
    "non_int_cols = df.dtypes[df.dtypes != 'int64'].index\n",
    "print(non_int_cols)"
   ]
  },
  {
   "cell_type": "code",
   "execution_count": 12,
   "metadata": {},
   "outputs": [
    {
     "name": "stdout",
     "output_type": "stream",
     "text": [
      "4 | Smoking                   | ['never smoked' 'tried smoking' 'former smoker' 'current smoker']\n",
      "3 | Alcohol                   | ['drink a lot' 'social drinker' 'never']\n",
      "3 | Punctuality               | ['i am always on time' 'i am often early' 'i am often running late']\n",
      "4 | Lying                     | ['never' 'sometimes' 'only to avoid hurting someone'\n",
      " 'everytime it suits me']\n",
      "4 | Internet usage            | ['few hours a day' 'most of the day' 'less than an hour a day'\n",
      " 'no time at all']\n",
      "2 | Gender                    | ['female' 'male']\n",
      "2 | Left - right handed       | ['right handed' 'left handed']\n",
      "6 | Education                 | ['college/bachelor degree' 'secondary school' 'primary school'\n",
      " 'masters degree' 'doctorate degree' 'currently a primary school pupil']\n",
      "2 | Only child                | ['no' 'yes']\n",
      "2 | Village - town            | ['village' 'city']\n",
      "2 | House - block of flats    | ['block of flats' 'house/bungalow']\n"
     ]
    }
   ],
   "source": [
    "for col in non_int_cols:\n",
    "    unique_values = df[col].unique()\n",
    "    print(f\"{unique_values.shape[0]} | {col:25} | {unique_values}\")"
   ]
  },
  {
   "cell_type": "markdown",
   "metadata": {},
   "source": [
    "Fortunately, all columns have a small number of unique values. Hence, we can map them to integers or one-hot vectors. Some columns like `Smoking` and `Punctuality` seem to have an order to them, e.g., `never < tried < former < current`. So, they can be mapped to integers. Others, like `Gender` and `Right-handedness`, are better off with one-hot vectors.\n",
    "\n",
    "For the time being, we'll leave them as is. We'll need the above preprocessing if we plug the data into a machine learning model."
   ]
  },
  {
   "cell_type": "code",
   "execution_count": 13,
   "metadata": {},
   "outputs": [],
   "source": [
    "df.to_csv(\"../data/responses_cleaned.csv\", index=False)"
   ]
  },
  {
   "cell_type": "code",
   "execution_count": null,
   "metadata": {},
   "outputs": [],
   "source": []
  }
 ],
 "metadata": {
  "kernelspec": {
   "display_name": "young_people",
   "language": "python",
   "name": "python3"
  },
  "language_info": {
   "codemirror_mode": {
    "name": "ipython",
    "version": 3
   },
   "file_extension": ".py",
   "mimetype": "text/x-python",
   "name": "python",
   "nbconvert_exporter": "python",
   "pygments_lexer": "ipython3",
   "version": "3.11.5"
  }
 },
 "nbformat": 4,
 "nbformat_minor": 2
}

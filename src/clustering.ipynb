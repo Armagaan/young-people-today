{
 "cells": [
  {
   "cell_type": "markdown",
   "metadata": {},
   "source": [
    "# Clustering\n",
    "Given the music preferences, do people make up any clusters of similar behavior?"
   ]
  },
  {
   "cell_type": "code",
   "execution_count": 52,
   "metadata": {},
   "outputs": [],
   "source": [
    "import warnings\n",
    "warnings.filterwarnings(\"ignore\")\n",
    "\n",
    "import matplotlib.pyplot as plt\n",
    "import numpy as np\n",
    "import pandas as pd\n",
    "import seaborn as sns\n",
    "\n",
    "FIGSIZE = (16, 9)"
   ]
  },
  {
   "cell_type": "code",
   "execution_count": 126,
   "metadata": {},
   "outputs": [
    {
     "data": {
      "text/html": [
       "<div>\n",
       "<style scoped>\n",
       "    .dataframe tbody tr th:only-of-type {\n",
       "        vertical-align: middle;\n",
       "    }\n",
       "\n",
       "    .dataframe tbody tr th {\n",
       "        vertical-align: top;\n",
       "    }\n",
       "\n",
       "    .dataframe thead th {\n",
       "        text-align: right;\n",
       "    }\n",
       "</style>\n",
       "<table border=\"1\" class=\"dataframe\">\n",
       "  <thead>\n",
       "    <tr style=\"text-align: right;\">\n",
       "      <th></th>\n",
       "      <th>Music</th>\n",
       "      <th>Slow songs or fast songs</th>\n",
       "      <th>Dance</th>\n",
       "      <th>Folk</th>\n",
       "      <th>Country</th>\n",
       "      <th>Classical music</th>\n",
       "      <th>Musical</th>\n",
       "      <th>Pop</th>\n",
       "      <th>Rock</th>\n",
       "      <th>Metal or Hardrock</th>\n",
       "      <th>...</th>\n",
       "      <th>Age</th>\n",
       "      <th>Height</th>\n",
       "      <th>Weight</th>\n",
       "      <th>Number of siblings</th>\n",
       "      <th>Gender</th>\n",
       "      <th>Left - right handed</th>\n",
       "      <th>Education</th>\n",
       "      <th>Only child</th>\n",
       "      <th>Village - town</th>\n",
       "      <th>House - block of flats</th>\n",
       "    </tr>\n",
       "  </thead>\n",
       "  <tbody>\n",
       "    <tr>\n",
       "      <th>0</th>\n",
       "      <td>5</td>\n",
       "      <td>3</td>\n",
       "      <td>2</td>\n",
       "      <td>1</td>\n",
       "      <td>2</td>\n",
       "      <td>2</td>\n",
       "      <td>1</td>\n",
       "      <td>5</td>\n",
       "      <td>5</td>\n",
       "      <td>1</td>\n",
       "      <td>...</td>\n",
       "      <td>20</td>\n",
       "      <td>163</td>\n",
       "      <td>48</td>\n",
       "      <td>1</td>\n",
       "      <td>female</td>\n",
       "      <td>right handed</td>\n",
       "      <td>college/bachelor degree</td>\n",
       "      <td>no</td>\n",
       "      <td>village</td>\n",
       "      <td>block of flats</td>\n",
       "    </tr>\n",
       "    <tr>\n",
       "      <th>1</th>\n",
       "      <td>4</td>\n",
       "      <td>4</td>\n",
       "      <td>2</td>\n",
       "      <td>1</td>\n",
       "      <td>1</td>\n",
       "      <td>1</td>\n",
       "      <td>2</td>\n",
       "      <td>3</td>\n",
       "      <td>5</td>\n",
       "      <td>4</td>\n",
       "      <td>...</td>\n",
       "      <td>19</td>\n",
       "      <td>163</td>\n",
       "      <td>58</td>\n",
       "      <td>2</td>\n",
       "      <td>female</td>\n",
       "      <td>right handed</td>\n",
       "      <td>college/bachelor degree</td>\n",
       "      <td>no</td>\n",
       "      <td>city</td>\n",
       "      <td>block of flats</td>\n",
       "    </tr>\n",
       "    <tr>\n",
       "      <th>2</th>\n",
       "      <td>5</td>\n",
       "      <td>5</td>\n",
       "      <td>2</td>\n",
       "      <td>2</td>\n",
       "      <td>3</td>\n",
       "      <td>4</td>\n",
       "      <td>5</td>\n",
       "      <td>3</td>\n",
       "      <td>5</td>\n",
       "      <td>3</td>\n",
       "      <td>...</td>\n",
       "      <td>20</td>\n",
       "      <td>176</td>\n",
       "      <td>67</td>\n",
       "      <td>2</td>\n",
       "      <td>female</td>\n",
       "      <td>right handed</td>\n",
       "      <td>secondary school</td>\n",
       "      <td>no</td>\n",
       "      <td>city</td>\n",
       "      <td>block of flats</td>\n",
       "    </tr>\n",
       "    <tr>\n",
       "      <th>3</th>\n",
       "      <td>5</td>\n",
       "      <td>3</td>\n",
       "      <td>2</td>\n",
       "      <td>1</td>\n",
       "      <td>1</td>\n",
       "      <td>1</td>\n",
       "      <td>1</td>\n",
       "      <td>2</td>\n",
       "      <td>2</td>\n",
       "      <td>1</td>\n",
       "      <td>...</td>\n",
       "      <td>22</td>\n",
       "      <td>172</td>\n",
       "      <td>59</td>\n",
       "      <td>1</td>\n",
       "      <td>female</td>\n",
       "      <td>right handed</td>\n",
       "      <td>college/bachelor degree</td>\n",
       "      <td>yes</td>\n",
       "      <td>city</td>\n",
       "      <td>house/bungalow</td>\n",
       "    </tr>\n",
       "    <tr>\n",
       "      <th>4</th>\n",
       "      <td>5</td>\n",
       "      <td>3</td>\n",
       "      <td>4</td>\n",
       "      <td>3</td>\n",
       "      <td>2</td>\n",
       "      <td>4</td>\n",
       "      <td>3</td>\n",
       "      <td>5</td>\n",
       "      <td>3</td>\n",
       "      <td>1</td>\n",
       "      <td>...</td>\n",
       "      <td>20</td>\n",
       "      <td>170</td>\n",
       "      <td>59</td>\n",
       "      <td>1</td>\n",
       "      <td>female</td>\n",
       "      <td>right handed</td>\n",
       "      <td>secondary school</td>\n",
       "      <td>no</td>\n",
       "      <td>village</td>\n",
       "      <td>house/bungalow</td>\n",
       "    </tr>\n",
       "  </tbody>\n",
       "</table>\n",
       "<p>5 rows × 150 columns</p>\n",
       "</div>"
      ],
      "text/plain": [
       "   Music  Slow songs or fast songs  Dance  Folk  Country  Classical music  \\\n",
       "0      5                         3      2     1        2                2   \n",
       "1      4                         4      2     1        1                1   \n",
       "2      5                         5      2     2        3                4   \n",
       "3      5                         3      2     1        1                1   \n",
       "4      5                         3      4     3        2                4   \n",
       "\n",
       "   Musical  Pop  Rock  Metal or Hardrock  ...  Age  Height  Weight  \\\n",
       "0        1    5     5                  1  ...   20     163      48   \n",
       "1        2    3     5                  4  ...   19     163      58   \n",
       "2        5    3     5                  3  ...   20     176      67   \n",
       "3        1    2     2                  1  ...   22     172      59   \n",
       "4        3    5     3                  1  ...   20     170      59   \n",
       "\n",
       "   Number of siblings  Gender  Left - right handed                Education  \\\n",
       "0                   1  female         right handed  college/bachelor degree   \n",
       "1                   2  female         right handed  college/bachelor degree   \n",
       "2                   2  female         right handed         secondary school   \n",
       "3                   1  female         right handed  college/bachelor degree   \n",
       "4                   1  female         right handed         secondary school   \n",
       "\n",
       "   Only child  Village - town  House - block of flats  \n",
       "0          no         village          block of flats  \n",
       "1          no            city          block of flats  \n",
       "2          no            city          block of flats  \n",
       "3         yes            city          house/bungalow  \n",
       "4          no         village          house/bungalow  \n",
       "\n",
       "[5 rows x 150 columns]"
      ]
     },
     "execution_count": 126,
     "metadata": {},
     "output_type": "execute_result"
    }
   ],
   "source": [
    "path = \"../data/responses_cleaned.csv\"\n",
    "df = pd.read_csv(path, header=0)\n",
    "df.head()"
   ]
  },
  {
   "cell_type": "markdown",
   "metadata": {},
   "source": [
    "Let us extract the music features."
   ]
  },
  {
   "cell_type": "code",
   "execution_count": 23,
   "metadata": {},
   "outputs": [
    {
     "name": "stdout",
     "output_type": "stream",
     "text": [
      "(1010, 19)\n",
      "Index(['Music', 'Slow songs or fast songs', 'Dance', 'Folk', 'Country',\n",
      "       'Classical music', 'Musical', 'Pop', 'Rock', 'Metal or Hardrock',\n",
      "       'Punk', 'Hiphop, Rap', 'Reggae, Ska', 'Swing, Jazz', 'Rock n roll',\n",
      "       'Alternative', 'Latino', 'Techno, Trance', 'Opera'],\n",
      "      dtype='object')\n"
     ]
    }
   ],
   "source": [
    "music_cols = [\n",
    "    'Music', 'Slow songs or fast songs', 'Dance', 'Folk',\n",
    "    'Country', 'Classical music', 'Musical', 'Pop', 'Rock',\n",
    "    'Metal or Hardrock', 'Punk', 'Hiphop, Rap', 'Reggae, Ska',\n",
    "    'Swing, Jazz', 'Rock n roll', 'Alternative', 'Latino',\n",
    "    'Techno, Trance', 'Opera'\n",
    "]\n",
    "df_music = df[music_cols]\n",
    "\n",
    "print(df_music.shape)\n",
    "print(df_music.columns)"
   ]
  },
  {
   "cell_type": "markdown",
   "metadata": {},
   "source": [
    "We don't need to rescale the features as all of them are in the range [0, 5]."
   ]
  },
  {
   "cell_type": "markdown",
   "metadata": {},
   "source": [
    "# Visualize"
   ]
  },
  {
   "cell_type": "markdown",
   "metadata": {},
   "source": [
    "Let's visualize the rating counts of each music column."
   ]
  },
  {
   "cell_type": "code",
   "execution_count": 125,
   "metadata": {},
   "outputs": [
    {
     "data": {
      "image/png": "[encoded data removed]",
      "text/plain": [
       "<Figure size 1600x900 with 20 Axes>"
      ]
     },
     "metadata": {},
     "output_type": "display_data"
    }
   ],
   "source": [
    "fig, ax = plt.subplots(4,5,figsize=FIGSIZE, sharex=True, sharey=True)\n",
    "initial = 0\n",
    "for i in range(4):\n",
    "    for j in range(5):\n",
    "        # Leave the last one blank.\n",
    "        if i == 3 and j == 4:\n",
    "            ax[i,j].grid(False)\n",
    "            ax[i,j].set_xticklabels(labels=[1,2,3,4,5], fontsize=8)\n",
    "            ax[i,j].set_yticklabels(labels=np.arange(0,601,100), fontsize=8)\n",
    "            continue\n",
    "        sns.countplot(df_music, x=df_music.columns[initial], ax=ax[i,j])\n",
    "        ax[i,j].set_title(df_music.columns[initial], y=-0.23, fontsize=10)\n",
    "        ax[i,j].set_ylabel('')\n",
    "        ax[i,j].set_xlabel('')\n",
    "        ax[i,j].set_xticklabels(labels=[1,2,3,4,5], fontsize=8)\n",
    "        ax[i,j].set_yticklabels(labels=np.arange(0,601,100), fontsize=8)\n",
    "        ax[i,j].set_xlim(-0.5, 5.5)\n",
    "        ax[i,j].set_ylim(0,600)\n",
    "        initial += 1"
   ]
  },
  {
   "cell_type": "markdown",
   "metadata": {},
   "source": [
    "What insights can we draw from this:\n",
    "- Everyone likes music!\n",
    "- Most genres show a guassian behavior.\n",
    "- Some genres are visibly popular: Pop, Rock.\n",
    "- Some genres are visibly unpopular e.g., Folk, Country, Metal, Opera. Notably, these genres were quite popular in the previous generation."
   ]
  },
  {
   "cell_type": "code",
   "execution_count": null,
   "metadata": {},
   "outputs": [],
   "source": []
  }
 ],
 "metadata": {
  "kernelspec": {
   "display_name": "young_people",
   "language": "python",
   "name": "python3"
  },
  "language_info": {
   "codemirror_mode": {
    "name": "ipython",
    "version": 3
   },
   "file_extension": ".py",
   "mimetype": "text/x-python",
   "name": "python",
   "nbconvert_exporter": "python",
   "pygments_lexer": "ipython3",
   "version": "3.11.5"
  }
 },
 "nbformat": 4,
 "nbformat_minor": 2
}
